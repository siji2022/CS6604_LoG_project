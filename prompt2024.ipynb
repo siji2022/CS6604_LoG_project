{
 "cells": [
  {
   "cell_type": "code",
   "execution_count": 230,
   "id": "0ae6327a",
   "metadata": {},
   "outputs": [
    {
     "name": "stdout",
     "output_type": "stream",
     "text": [
      "Requirement already satisfied: openai in /home/sijic/anaconda3/envs/mts/lib/python3.9/site-packages (1.51.2)\n",
      "Requirement already satisfied: anyio<5,>=3.5.0 in /home/sijic/anaconda3/envs/mts/lib/python3.9/site-packages (from openai) (4.6.2.post1)\n",
      "Requirement already satisfied: distro<2,>=1.7.0 in /home/sijic/anaconda3/envs/mts/lib/python3.9/site-packages (from openai) (1.9.0)\n",
      "Requirement already satisfied: httpx<1,>=0.23.0 in /home/sijic/anaconda3/envs/mts/lib/python3.9/site-packages (from openai) (0.27.2)\n",
      "Requirement already satisfied: jiter<1,>=0.4.0 in /home/sijic/anaconda3/envs/mts/lib/python3.9/site-packages (from openai) (0.6.1)\n",
      "Requirement already satisfied: pydantic<3,>=1.9.0 in /home/sijic/anaconda3/envs/mts/lib/python3.9/site-packages (from openai) (2.9.2)\n",
      "Requirement already satisfied: sniffio in /home/sijic/anaconda3/envs/mts/lib/python3.9/site-packages (from openai) (1.3.1)\n",
      "Requirement already satisfied: tqdm>4 in /home/sijic/anaconda3/envs/mts/lib/python3.9/site-packages (from openai) (4.66.4)\n",
      "Requirement already satisfied: typing-extensions<5,>=4.11 in /home/sijic/.local/lib/python3.9/site-packages (from openai) (4.12.0)\n",
      "Requirement already satisfied: idna>=2.8 in /home/sijic/anaconda3/envs/mts/lib/python3.9/site-packages (from anyio<5,>=3.5.0->openai) (3.7)\n",
      "Requirement already satisfied: exceptiongroup>=1.0.2 in /home/sijic/anaconda3/envs/mts/lib/python3.9/site-packages (from anyio<5,>=3.5.0->openai) (1.2.2)\n",
      "Requirement already satisfied: certifi in /home/sijic/anaconda3/envs/mts/lib/python3.9/site-packages (from httpx<1,>=0.23.0->openai) (2024.2.2)\n",
      "Requirement already satisfied: httpcore==1.* in /home/sijic/anaconda3/envs/mts/lib/python3.9/site-packages (from httpx<1,>=0.23.0->openai) (1.0.6)\n",
      "Requirement already satisfied: h11<0.15,>=0.13 in /home/sijic/anaconda3/envs/mts/lib/python3.9/site-packages (from httpcore==1.*->httpx<1,>=0.23.0->openai) (0.14.0)\n",
      "Requirement already satisfied: annotated-types>=0.6.0 in /home/sijic/anaconda3/envs/mts/lib/python3.9/site-packages (from pydantic<3,>=1.9.0->openai) (0.7.0)\n",
      "Requirement already satisfied: pydantic-core==2.23.4 in /home/sijic/anaconda3/envs/mts/lib/python3.9/site-packages (from pydantic<3,>=1.9.0->openai) (2.23.4)\n"
     ]
    }
   ],
   "source": [
    "!pip install openai\n",
    "import openai"
   ]
  },
  {
   "cell_type": "code",
   "execution_count": 231,
   "id": "de226f69",
   "metadata": {},
   "outputs": [],
   "source": [
    "import os\n",
    "from openai import OpenAI\n",
    "import numpy as np\n",
    "import matplotlib.pyplot as plt\n",
    "import pandas as pdf"
   ]
  },
  {
   "cell_type": "code",
   "execution_count": 1,
   "id": "0cf6ecf3",
   "metadata": {},
   "outputs": [],
   "source": [
    "# read my key from file openai_key.txt\n",
    "with open('../../keys/openai_gpt_siji.txt', 'r') as file:\n",
    "    key = file.read().replace('\\n', '')\n"
   ]
  },
  {
   "cell_type": "code",
   "execution_count": 250,
   "id": "9b40ed64",
   "metadata": {},
   "outputs": [],
   "source": [
    "client = OpenAI(\n",
    "    # This is my API key, you should use your own\n",
    "    api_key=key\n",
    ")\n",
    "\n",
    "def get_chat_completion(messages,client=client, model=\"gpt-3.5-turbo-0125\"):\n",
    "    # the cheapest model I could find; input $0.0005 / 1K tokens; output $0.0015 / 1K tokens\n",
    "    chat_completion= client.chat.completions.create(\n",
    "        messages=[\n",
    "            {\"role\":\"system\",\"content\":\"You are a data scientist working on anomaly detection.\"},\n",
    "             {\n",
    "            \"role\": \"user\",\n",
    "            \"content\": messages,\n",
    "        }\n",
    "            ],\n",
    "        model=model,\n",
    "        temperature=0,\n",
    "        max_tokens=100,\n",
    "        store=True,\n",
    "    )\n",
    "    return chat_completion\n",
    "\n",
    "MODEL_LIST=[\"gpt-4o\",\"gpt-4o-mini\",\"gpt-4-turbo\",\"gpt-3.5-turbo-0125\"]\n"
   ]
  },
  {
   "cell_type": "code",
   "execution_count": 245,
   "id": "4d9a8759",
   "metadata": {},
   "outputs": [],
   "source": [
    "def print_response(response, debug=False):\n",
    "    if debug:\n",
    "        # print the tokens size\n",
    "        print('total tokens:', response.usage.total_tokens, 'prompt tokens:', response.usage.prompt_tokens, 'completion_tokens tokens:', response.usage.completion_tokens)\n",
    "    print(response.choices[0].message.content)\n",
    "    "
   ]
  },
  {
   "cell_type": "code",
   "execution_count": 246,
   "id": "a0bdb44e",
   "metadata": {},
   "outputs": [],
   "source": [
    "# create sine wave data\n",
    "def sine_wave(n=100, freq=1, amp=1, phase=0):\n",
    "    x = np.linspace(0, 1, n)\n",
    "    y = amp * np.sin(2 * np.pi * freq * x + phase)\n",
    "    return x, y"
   ]
  },
  {
   "cell_type": "code",
   "execution_count": 247,
   "id": "0048d27f",
   "metadata": {},
   "outputs": [
    {
     "data": {
      "text/plain": [
       "<matplotlib.patches.Rectangle at 0x7f7f0d85a970>"
      ]
     },
     "execution_count": 247,
     "metadata": {},
     "output_type": "execute_result"
    },
    {
     "data": {
      "image/png": "[encoded data removed]",
      "text/plain": [
       "<Figure size 500x300 with 1 Axes>"
      ]
     },
     "metadata": {},
     "output_type": "display_data"
    }
   ],
   "source": [
    "x,y1=sine_wave(n=10, freq=2, amp=1, phase=0)\n",
    "y1=y1+20\n",
    "x,y2=sine_wave(n=10, freq=10, amp=0.1, phase=0)\n",
    "y2=y2+20\n",
    "# concatenate the two sine waves\n",
    "y=np.concatenate([y1,y2[:5],y1[:5]])\n",
    "# y=y1\n",
    "# y[6]=30\n",
    "# set figure size\n",
    "plt.figure(figsize=(5, 3))\n",
    "# scatter plot\n",
    "plt.plot(range(0,len(y)), y)\n",
    "plt.scatter(range(0,len(y)), y)\n",
    "plt.title(\"Sine wave with outlier\")\n",
    "# add vertical region to highlight the outlier\n",
    "plt.axvspan(len(y1), len(y1)+5, color='red', alpha=0.5)"
   ]
  },
  {
   "cell_type": "code",
   "execution_count": 248,
   "id": "5449cbfc",
   "metadata": {},
   "outputs": [
    {
     "name": "stdout",
     "output_type": "stream",
     "text": [
      "\n",
      "You are a data scientist working on abnomaly detection.\n",
      "The dataset you are working on is a collection of data from a sensor \n",
      "that measures the room temperature. \n",
      "Data: ```[20.  ,20.98,20.34,19.13,19.36,20.64,20.87,19.66,19.02,20.  ,20.  ,20.06,\n",
      " 20.1 ,20.09,20.03,20.  ,20.98,20.34,19.13,19.36]```\n",
      "Give the reason for the anomaly in less than 20 words.\n",
      "Return the index and value of the anomalies in [index, value] format. \n",
      "\n"
     ]
    }
   ],
   "source": [
    "# use y as the dataset, format it as a string with 2 decimals\n",
    "dataset = np.array2string(y, precision=2, separator=',',suppress_small=True)\n",
    "\n",
    "prompt =f\"\"\"\n",
    "You are a data scientist working on abnomaly detection.\n",
    "The dataset you are working on is a collection of data from a sensor \n",
    "that measures the room temperature. \n",
    "Data: ```{dataset}```\n",
    "Give the reason for the anomaly in less than 20 words.\n",
    "Return the index and value of the anomalies in [index, value] format. \n",
    "\"\"\"\n",
    "\n",
    "print(prompt )\n"
   ]
  },
  {
   "cell_type": "code",
   "execution_count": 249,
   "id": "96cee814",
   "metadata": {},
   "outputs": [
    {
     "name": "stdout",
     "output_type": "stream",
     "text": [
      "total tokens: 212 prompt tokens: 175 completion_tokens tokens: 37\n",
      "Reason: Sensor malfunction or environmental change.  \n",
      "Anomalies: [[1, 20.98], [6, 20.87], [16, 20.98]]\n"
     ]
    }
   ],
   "source": [
    "response = get_chat_completion(prompt,model=MODEL_LIST[0])\n",
    "print_response(response, debug=True)"
   ]
  },
  {
   "cell_type": "code",
   "execution_count": 195,
   "id": "3750cad9",
   "metadata": {},
   "outputs": [
    {
     "name": "stdout",
     "output_type": "stream",
     "text": [
      "\n",
      "The dataset is a collection of data from a sensor that measures the room temperature. \n",
      "Find the abnomaly as the example below\n",
      "and return in [index1,index2,...] format. \n",
      "Example: Data: ```[20.  ,20.98,20.34,19.13,19.36,20.64,20.87,19.66,19.02,20.  ,20.  ,20.06,\n",
      " 20.1 ,20.09,20.03,20.  ,20.98,20.34,19.13,19.36]``` Anomaly: [10,11,12,13,14]\n",
      "Your turn: Data:  ```[21.98,21.34,20.13,20.36,21.64,21.87,20.66,20.02,21.  ,21.  ,21.06,21.1 ,\n",
      " 21.09,21.03,21.  ,21.98,21.34,20.13,20.36]``` Anomaly:\n",
      "\n"
     ]
    }
   ],
   "source": [
    "# use y as the dataset, format it as a string with 2 decimals\n",
    "dataset_example = np.array2string(y, precision=2, separator=',',suppress_small=True)\n",
    "dataset_test = np.array2string((y+1)[1:], precision=2, separator=',',suppress_small=True)\n",
    "\n",
    "prompt =f\"\"\"\n",
    "The dataset is a collection of data from a sensor that measures the room temperature. \n",
    "Find the abnomaly as the example below\n",
    "and return in [index1,index2,...] format. \n",
    "Example: Data: ```{dataset_example}``` Anomaly: [10,11,12,13,14]\n",
    "Your turn: Data:  ```{dataset_test}``` Anomaly:\n",
    "\"\"\"\n",
    "print(prompt)"
   ]
  },
  {
   "cell_type": "code",
   "execution_count": 196,
   "id": "4ec1be14",
   "metadata": {},
   "outputs": [
    {
     "name": "stdout",
     "output_type": "stream",
     "text": [
      "total tokens: 276 prompt tokens: 255 completion_tokens tokens: 21\n",
      "[8, 9, 10, 11, 12, 13, 14]\n"
     ]
    }
   ],
   "source": [
    "response = get_chat_completion(prompt,model=MODEL_LIST[1])\n",
    "print_response(response, debug=True)"
   ]
  },
  {
   "cell_type": "code",
   "execution_count": 207,
   "id": "aceb7c07",
   "metadata": {},
   "outputs": [],
   "source": [
    "prompt =f\"\"\"\n",
    "Find the abnomaly as the example below\n",
    "Example: Data: ```{dataset_example}``` Anomaly: [10,11,12,13,14]\n",
    "Your turn: Data:  ```{dataset_test}``` Anomaly:\n",
    "\"\"\"\n",
    "from pydantic import BaseModel\n",
    "class ADReponse(BaseModel):\n",
    "    reason:str\n",
    "    anomalies_index: list[str]\n",
    "    \n",
    "chat_completion= client.beta.chat.completions.parse(\n",
    "    messages=[\n",
    "        {\"role\":\"system\",\"content\":\"You are a data scientist working on abnomaly detection.\"},\n",
    "            {\n",
    "        \"role\": \"user\",\n",
    "        \"content\": prompt,\n",
    "    }\n",
    "        ],\n",
    "    model=MODEL_LIST[1],\n",
    "    temperature=0,\n",
    "    max_tokens=100,\n",
    "    response_format=ADReponse,\n",
    "    )\n"
   ]
  },
  {
   "cell_type": "code",
   "execution_count": 213,
   "id": "d7092982",
   "metadata": {},
   "outputs": [
    {
     "name": "stdout",
     "output_type": "stream",
     "text": [
      "The values from index 10 to 14 are significantly different from the surrounding values, indicating an anomaly.\n",
      "[10 11 12 13 14]\n"
     ]
    }
   ],
   "source": [
    "result=chat_completion.choices[0].message.parsed\n",
    "print(result.reason)\n",
    "anomaliy_index = result.anomalies_index\n",
    "# parse the index of the anomalies into numpy array as integer\n",
    "anomaliy_index = np.array(anomaliy_index)\n",
    "# convert the index to integer from string\n",
    "anomaliy_index = anomaliy_index.astype(int)\n",
    "print(anomaliy_index)\n"
   ]
  },
  {
   "cell_type": "code",
   "execution_count": 215,
   "id": "da49827e",
   "metadata": {},
   "outputs": [
    {
     "name": "stdout",
     "output_type": "stream",
     "text": [
      "gpt-4o-2024-08-06\n"
     ]
    }
   ],
   "source": [
    "# what is the model\n",
    "print(response.model)"
   ]
  },
  {
   "cell_type": "markdown",
   "id": "895fc8c2",
   "metadata": {},
   "source": [
    "## chain of thought"
   ]
  },
  {
   "cell_type": "code",
   "execution_count": 217,
   "id": "80fa96de",
   "metadata": {},
   "outputs": [
    {
     "ename": "SyntaxError",
     "evalue": "positional argument follows keyword argument (3042263013.py, line 21)",
     "output_type": "error",
     "traceback": [
      "\u001b[0;36m  Input \u001b[0;32mIn [217]\u001b[0;36m\u001b[0m\n\u001b[0;31m    store: true,\u001b[0m\n\u001b[0m         ^\u001b[0m\n\u001b[0;31mSyntaxError\u001b[0m\u001b[0;31m:\u001b[0m positional argument follows keyword argument\n"
     ]
    }
   ],
   "source": [
    "from pydantic import BaseModel\n",
    "from openai import OpenAI\n",
    "\n",
    "\n",
    "\n",
    "class Step(BaseModel):\n",
    "    explanation: str\n",
    "    output: str\n",
    "\n",
    "class MathReasoning(BaseModel):\n",
    "    steps: list[Step]\n",
    "    final_answer: str\n",
    "\n",
    "completion = client.beta.chat.completions.parse(\n",
    "    model=MODEL_LIST[1],\n",
    "    messages=[\n",
    "        {\"role\": \"system\", \"content\": \"You are a helpful math tutor. Guide the user through the solution step by step.\"},\n",
    "        {\"role\": \"user\", \"content\": \"how can I solve 8x + 7 = -23\"}\n",
    "    ],\n",
    "    response_format=MathReasoning,\n",
    ")\n",
    "\n",
    "math_reasoning = completion.choices[0].message.parsed"
   ]
  },
  {
   "cell_type": "code",
   "execution_count": 199,
   "id": "1664bb66",
   "metadata": {},
   "outputs": [
    {
     "data": {
      "text/plain": [
       "MathReasoning(steps=[Step(explanation='We want to isolate the term with x, so we first subtract 7 from both sides of the equation.', output='8x + 7 - 7 = -23 - 7'), Step(explanation='Simplifying the left side gives us 8x, and simplifying the right side gives us -30.', output='8x = -30'), Step(explanation='Now, we need to solve for x by dividing both sides of the equation by 8.', output='x = -30 / 8'), Step(explanation='Simplifying -30/8 by dividing both the numerator and the denominator by 2 gives us -15/4.', output='x = -15/4')], final_answer='x = -15/4')"
      ]
     },
     "execution_count": 199,
     "metadata": {},
     "output_type": "execute_result"
    }
   ],
   "source": [
    "math_reasoning"
   ]
  },
  {
   "cell_type": "code",
   "execution_count": 216,
   "id": "7979e4d4",
   "metadata": {},
   "outputs": [],
   "source": [
    "completion.choices[0].message.refusal"
   ]
  }
 ],
 "metadata": {
  "kernelspec": {
   "display_name": "mts",
   "language": "python",
   "name": "python3"
  },
  "language_info": {
   "codemirror_mode": {
    "name": "ipython",
    "version": 3
   },
   "file_extension": ".py",
   "mimetype": "text/x-python",
   "name": "python",
   "nbconvert_exporter": "python",
   "pygments_lexer": "ipython3",
   "version": "3.9.0"
  }
 },
 "nbformat": 4,
 "nbformat_minor": 5
}
